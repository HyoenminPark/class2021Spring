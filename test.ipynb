{
  "nbformat": 4,
  "nbformat_minor": 0,
  "metadata": {
    "colab": {
      "name": "test.ipynb",
      "provenance": [],
      "authorship_tag": "ABX9TyPyNDl+9Z1cck1cIPZe3EHm",
      "include_colab_link": true
    },
    "kernelspec": {
      "name": "python3",
      "display_name": "Python 3"
    }
  },
  "cells": [
    {
      "cell_type": "markdown",
      "metadata": {
        "id": "view-in-github",
        "colab_type": "text"
      },
      "source": [
        "<a href=\"https://colab.research.google.com/github/HyoenminPark/class2021Spring/blob/main/test.ipynb\" target=\"_parent\"><img src=\"https://colab.research.google.com/assets/colab-badge.svg\" alt=\"Open In Colab\"/></a>"
      ]
    },
    {
      "cell_type": "markdown",
      "metadata": {
        "id": "H30Wm5DgUCSt"
      },
      "source": [
        "## **# 오늘 배운 것: **\r\n",
        "\r\n",
        "# gitube 계정 만들기, login해서 repository 만들기 (이름은 class2021Spring)\r\n",
        "-> markdown\r\n",
        "파일 자체 ipynb - 주피터 노트북 (colab이랑 동의어는 아님)\r\n"
      ]
    },
    {
      "cell_type": "code",
      "metadata": {
        "colab": {
          "base_uri": "https://localhost:8080/"
        },
        "id": "sII9kKlqVuqv",
        "outputId": "e1f75fa8-d6e1-44d9-d412-b6d7637a667d"
      },
      "source": [
        "a = 1\r\n",
        "b = 1\r\n",
        "c = a + b\r\n",
        "c"
      ],
      "execution_count": 8,
      "outputs": [
        {
          "output_type": "execute_result",
          "data": {
            "text/plain": [
              "2"
            ]
          },
          "metadata": {
            "tags": []
          },
          "execution_count": 8
        }
      ]
    },
    {
      "cell_type": "markdown",
      "metadata": {
        "id": "71DdlKUnV582"
      },
      "source": [
        "우리는 파이썬을 배우게 됩니다. "
      ]
    },
    {
      "cell_type": "code",
      "metadata": {
        "colab": {
          "base_uri": "https://localhost:8080/"
        },
        "id": "ycqsRasHWYo6",
        "outputId": "9836a4d9-93e8-4f35-c0e2-ee0042cbac5e"
      },
      "source": [
        "a=1\r\n",
        "a"
      ],
      "execution_count": 7,
      "outputs": [
        {
          "output_type": "execute_result",
          "data": {
            "text/plain": [
              "1"
            ]
          },
          "metadata": {
            "tags": []
          },
          "execution_count": 7
        }
      ]
    },
    {
      "cell_type": "code",
      "metadata": {
        "id": "nFBWx08SW6K9"
      },
      "source": [
        ""
      ],
      "execution_count": null,
      "outputs": []
    },
    {
      "cell_type": "markdown",
      "metadata": {
        "id": "7oWIm8-vWI3g"
      },
      "source": [
        "# 파이썬을 어디서 배우나요?\r\n",
        "### Jump to python"
      ]
    },
    {
      "cell_type": "code",
      "metadata": {
        "id": "cCrLiWxdT4eK"
      },
      "source": [
        ""
      ],
      "execution_count": null,
      "outputs": []
    }
  ]
}