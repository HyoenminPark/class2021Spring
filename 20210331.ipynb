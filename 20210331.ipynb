{
  "nbformat": 4,
  "nbformat_minor": 0,
  "metadata": {
    "colab": {
      "name": "20210331.ipynb",
      "provenance": [],
      "authorship_tag": "ABX9TyOJSFeTFl0A74NiqUdq2ZsK",
      "include_colab_link": true
    },
    "kernelspec": {
      "name": "python3",
      "display_name": "Python 3"
    },
    "language_info": {
      "name": "python"
    }
  },
  "cells": [
    {
      "cell_type": "markdown",
      "metadata": {
        "id": "view-in-github",
        "colab_type": "text"
      },
      "source": [
        "<a href=\"https://colab.research.google.com/github/HyoenminPark/class2021Spring/blob/main/20210331.ipynb\" target=\"_parent\"><img src=\"https://colab.research.google.com/assets/colab-badge.svg\" alt=\"Open In Colab\"/></a>"
      ]
    },
    {
      "cell_type": "markdown",
      "metadata": {
        "id": "31w1Lj-d7Rd2"
      },
      "source": [
        "***아***\n",
        "\n",
        "pitch - 231HZ\n",
        "intensity -78.28dB\n",
        "forment - 1149HZ, 1468HZ\n",
        "duration - 0.518sec\n",
        "\n",
        "\n",
        "***애***\n",
        "\n",
        "pitch - 231HZ\n",
        "intensity - 77.44dB\n",
        "forment - 862HZ, 2489HZ\n",
        "duration - 0.589069sec"
      ]
    }
  ]
}