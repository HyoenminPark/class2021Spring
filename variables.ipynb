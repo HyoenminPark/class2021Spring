{
  "nbformat": 4,
  "nbformat_minor": 0,
  "metadata": {
    "colab": {
      "name": "variables.ipynb",
      "provenance": [],
      "authorship_tag": "ABX9TyO2I356HgKPBxwQhvyxFO0C",
      "include_colab_link": true
    },
    "kernelspec": {
      "name": "python3",
      "display_name": "Python 3"
    }
  },
  "cells": [
    {
      "cell_type": "markdown",
      "metadata": {
        "id": "view-in-github",
        "colab_type": "text"
      },
      "source": [
        "<a href=\"https://colab.research.google.com/github/HyoenminPark/class2021Spring/blob/main/variables.ipynb\" target=\"_parent\"><img src=\"https://colab.research.google.com/assets/colab-badge.svg\" alt=\"Open In Colab\"/></a>"
      ]
    },
    {
      "cell_type": "code",
      "metadata": {
        "id": "goAyoU7vRheI",
        "outputId": "c32cc600-3c42-4dc2-b77d-84782e8fe65a"
      },
      "source": [
        "a = 1; print(type(a))"
      ],
      "execution_count": null,
      "outputs": [
        {
          "output_type": "stream",
          "text": [
            "<class 'int'>\n"
          ],
          "name": "stdout"
        }
      ]
    },
    {
      "cell_type": "code",
      "metadata": {
        "id": "txxnoqJuRheJ",
        "outputId": "713e5491-c822-43d7-ec7b-a00348e02708"
      },
      "source": [
        "a = 1; a = float(a); print(type(a))"
      ],
      "execution_count": null,
      "outputs": [
        {
          "output_type": "stream",
          "text": [
            "<class 'float'>\n"
          ],
          "name": "stdout"
        }
      ]
    },
    {
      "cell_type": "markdown",
      "metadata": {
        "id": "XA1ZPY7u--h4"
      },
      "source": [
        "마지막 변수만 나오기 때문에 print를 써야 함.\r\n",
        ";(세미콜론) 사용하면 한 줄로 코드 작성 가능.\r\n",
        "# 변수의 type \r\n",
        "a=1 \r\n",
        "print(type(a)) \r\n",
        "<class 'int'> - 숫자 중 정수다 \r\n",
        "a= 1.22 면? \r\n",
        "<class 'float'> - 숫자 중 소수다\r\n"
      ]
    },
    {
      "cell_type": "code",
      "metadata": {
        "id": "By9UCBctRheK",
        "outputId": "b0e2dc33-a3e3-4801-ffe4-b69ac0c74b13"
      },
      "source": [
        "a = 1.2; a = int(a); print(type(a))"
      ],
      "execution_count": null,
      "outputs": [
        {
          "output_type": "stream",
          "text": [
            "<class 'int'>\n"
          ],
          "name": "stdout"
        }
      ]
    },
    {
      "cell_type": "markdown",
      "metadata": {
        "id": "Dbqwc64v_ZOw"
      },
      "source": [
        "a=1; a = float(a); print(type(a)); print(a)\r\n",
        "1을 소수로 바꾸면 1.0 / 타입과 print \r\n",
        "<class 'float'> 1.0 \r\n",
        "\r\n",
        "a=1.2; a=int(a); print(type(a)); print(a)\r\n",
        "<class 'int'> 1(반올림)"
      ]
    },
    {
      "cell_type": "code",
      "metadata": {
        "id": "SyP0PB86RheL",
        "outputId": "e10d274f-e7fd-4cdd-a822-847fb83560ec"
      },
      "source": [
        "a = '123'; print(type(a)); print(a[1])"
      ],
      "execution_count": null,
      "outputs": [
        {
          "output_type": "stream",
          "text": [
            "<class 'str'>\n",
            "2\n"
          ],
          "name": "stdout"
        }
      ]
    },
    {
      "cell_type": "markdown",
      "metadata": {
        "id": "aoTzxVrL_bv3"
      },
      "source": [
        "quote, double quote: string(문자)"
      ]
    },
    {
      "cell_type": "code",
      "metadata": {
        "id": "byDy9oFERheL",
        "outputId": "bfc3fed4-2c45-4830-a723-0981b1b02914"
      },
      "source": [
        "a = '123'; a = list(a); print(type(a)); print(a); print(a[2])"
      ],
      "execution_count": null,
      "outputs": [
        {
          "output_type": "stream",
          "text": [
            "<class 'list'>\n",
            "['1', '2', '3']\n",
            "3\n"
          ],
          "name": "stdout"
        }
      ]
    },
    {
      "cell_type": "markdown",
      "metadata": {
        "id": "q9QY7W2s_jpV"
      },
      "source": [
        "index : a='korea'; a[0] \r\n",
        "'k' (숫자열 몇 번째인지! 첫번째는 0부터 시작)"
      ]
    },
    {
      "cell_type": "code",
      "metadata": {
        "id": "DfS-gknCRheL",
        "outputId": "0cf2a3dd-678f-47ab-b4d6-c62e43e428e5"
      },
      "source": [
        "a = [1,'2', [3, '4']]; print(type(a)); print(a[0]); print(a[1]); print(a[2])"
      ],
      "execution_count": null,
      "outputs": [
        {
          "output_type": "stream",
          "text": [
            "<class 'list'>\n",
            "1\n",
            "2\n",
            "[3, '4']\n"
          ],
          "name": "stdout"
        }
      ]
    },
    {
      "cell_type": "markdown",
      "metadata": {
        "id": "_OzSGFxm_pyG"
      },
      "source": [
        "a='123'; a=list(a); a \r\n",
        "['1', '2', '3'] -> a를 하나하나 쪼갬 \r\n",
        "\r\n",
        "a='123'; print(type(a)); a= list(a); print(type(a))\r\n",
        "<class 'str'> <class 'list'>\r\n",
        "\r\n",
        "list -> a = [1, 'cde', 4] 섞여있어도 listing만 되면 상관 X\r\n",
        "list 속에 list가 들어올 수도 있음"
      ]
    },
    {
      "cell_type": "code",
      "metadata": {
        "id": "wuUZdEnyRheM",
        "outputId": "3f1479d8-f8d2-43b0-b33e-f54ac9e17f6d"
      },
      "source": [
        "a = (1,'2', [3, '4']); print(type(a)); print(a[0]); print(a[1]); print(a[2])"
      ],
      "execution_count": null,
      "outputs": [
        {
          "output_type": "stream",
          "text": [
            "<class 'tuple'>\n",
            "1\n",
            "2\n",
            "[3, '4']\n"
          ],
          "name": "stdout"
        }
      ]
    },
    {
      "cell_type": "markdown",
      "metadata": {
        "id": "dkxyyD2q_2Wx"
      },
      "source": [
        "tuple과 list는 거의 동일\r\n",
        "a = [1, 2, 3] -> list\r\n",
        "a = (1, 2, 3) -> tuple\r\n",
        "a = [1, 2, 3]\r\n",
        "a[0] = -1 \r\n",
        "a\r\n",
        "[-1, 2, 3] \r\n",
        "\r\n",
        "a = (1, 2, 3)\r\n",
        "a[0] = -1 \r\n",
        "a\r\n",
        "error\r\n",
        "tuple - object does not support item assignment\r\n",
        "(변수를 바꿀 수 없음 so 좀 더 안전)\r\n"
      ]
    },
    {
      "cell_type": "code",
      "metadata": {
        "id": "2sivfloGRheM",
        "outputId": "5c768bb7-e02b-4c87-a76e-3e992cdb244e"
      },
      "source": [
        "a =\t{\"a\": \"apple\", \"b\": \"orange\", \"c\": 2014}\n",
        "print(type(a))\n",
        "print(a[\"a\"])"
      ],
      "execution_count": null,
      "outputs": [
        {
          "output_type": "stream",
          "text": [
            "<class 'dict'>\n",
            "apple\n"
          ],
          "name": "stdout"
        }
      ]
    },
    {
      "cell_type": "markdown",
      "metadata": {
        "id": "bMyqd2C1B95F"
      },
      "source": [
        "a = {\"a\": \"apple\", \"b\": \"orange\", \"c\": 2014} \r\n",
        "\r\n",
        "print(type(a))\r\n",
        "<class 'dict'>\r\n",
        "dict에서 access할 때\r\n",
        "a = {\"a\": \"apple\", \"b\": \"orange\", \"c\": 2014} \r\n",
        "a[\"c\"]\r\n",
        "2014\r\n",
        "\r\n",
        "a = {'a': 'apple', 'b' : orange', 'c' : 2014}\r\n",
        "a['c'] = 2021\r\n",
        "a\r\n",
        "{'a': 'apple', 'b': 'orange', 'c': 2021}\r\n",
        "\r\n",
        "dic은 named되어 있기 때문에 순서를 따지지 X"
      ]
    },
    {
      "cell_type": "code",
      "metadata": {
        "id": "A7teRXuCRheN",
        "outputId": "79a99306-d858-4682-a61e-a21c74bd903d"
      },
      "source": [
        "a=[(1,2,3), (3,8,0)]\n",
        "print(type(a))\n",
        "a"
      ],
      "execution_count": null,
      "outputs": [
        {
          "output_type": "stream",
          "text": [
            "<class 'list'>\n"
          ],
          "name": "stdout"
        },
        {
          "output_type": "execute_result",
          "data": {
            "text/plain": [
              "[(1, 2, 3), (3, 8, 0)]"
            ]
          },
          "metadata": {
            "tags": []
          },
          "execution_count": 27
        }
      ]
    }
  ]
}