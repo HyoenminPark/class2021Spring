{
  "nbformat": 4,
  "nbformat_minor": 0,
  "metadata": {
    "colab": {
      "name": "programming.ipynb",
      "provenance": [],
      "toc_visible": true,
      "authorship_tag": "ABX9TyOuYeaAp2ALpr8paqUYS3jv",
      "include_colab_link": true
    },
    "kernelspec": {
      "name": "python3",
      "display_name": "Python 3"
    }
  },
  "cells": [
    {
      "cell_type": "markdown",
      "metadata": {
        "id": "view-in-github",
        "colab_type": "text"
      },
      "source": [
        "<a href=\"https://colab.research.google.com/github/HyoenminPark/class2021Spring/blob/main/programming.ipynb\" target=\"_parent\"><img src=\"https://colab.research.google.com/assets/colab-badge.svg\" alt=\"Open In Colab\"/></a>"
      ]
    },
    {
      "cell_type": "code",
      "metadata": {
        "id": "QJBgdoo_j_pu"
      },
      "source": [
        ""
      ],
      "execution_count": null,
      "outputs": []
    },
    {
      "cell_type": "markdown",
      "metadata": {
        "id": "iXZteDIIkG5T"
      },
      "source": [
        "## **컴퓨터 언어**\r\n",
        "# 변수\r\n",
        "a=1 b=2 c= love (내용을 변수에  넣는다)\r\n",
        "### *= assign, == equal*\r\n",
        "\r\n",
        "# 문법 = 제어문 \r\n",
        "***1. 반복: for***\r\n",
        "***2. 조건: if*** \r\n",
        "EX) for 100 \r\n",
        "print(1) 100번 동안 1을 print 하라 \r\n",
        "EX) a=1\r\n",
        "      if a == 1  \r\n",
        "        print (3) -> print 됨 \r\n",
        "EX) a=1\r\n",
        "      if a == 2 \r\n",
        "        print (3) -> print 안됨 \r\n",
        "\r\n",
        "# 함수(function) \r\n",
        "***입출력 관계 ***\r\n",
        "입력(input) -> 변화(func) -> 출력(output)\r\n",
        "-> f(x)=y : x는 입력 y는 출력\r\n",
        "f=함수 EX) y=ax+b - 일차함수\r\n",
        "우리 세상 모든 것들이 함수로 이루어짐(AI, 자동차 등)\r\n",
        "***function add (a,b) ***\r\n",
        "c = a + b  지정 후 add(1,2) 형태로 쓰기\r\n"
      ]
    }
  ]
}